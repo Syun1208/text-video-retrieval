{
 "cells": [
  {
   "cell_type": "code",
   "execution_count": 1,
   "metadata": {},
   "outputs": [
    {
     "name": "stderr",
     "output_type": "stream",
     "text": [
      "/home/toonies/anaconda3/envs/UTE-AI/lib/python3.7/site-packages/tqdm/auto.py:22: TqdmWarning: IProgress not found. Please update jupyter and ipywidgets. See https://ipywidgets.readthedocs.io/en/stable/user_install.html\n",
      "  from .autonotebook import tqdm as notebook_tqdm\n"
     ]
    }
   ],
   "source": [
    "import numpy as np\n",
    "import faiss\n",
    "import glob\n",
    "import json\n",
    "import matplotlib.pyplot as plt\n",
    "import os\n",
    "import math\n",
    "import torch\n",
    "import pandas as pd\n",
    "import re"
   ]
  },
  {
   "cell_type": "code",
   "execution_count": null,
   "metadata": {},
   "outputs": [],
   "source": [
    "\n",
    "class File4Faiss:\n",
    "    def __init__(self, root_database: str):\n",
    "        self.root_database = root_database\n",
    "\n",
    "    def re_shot_list(self, shot_list, id, k):\n",
    "       pass\n",
    "    \n",
    "    def write_json_file(self, json_path: str, shot_frames_path: str, option = 'full'):\n",
    "        count = 0\n",
    "        self.info = []\n",
    "     "
   ]
  },
  {
   "cell_type": "code",
   "execution_count": 2,
   "metadata": {},
   "outputs": [],
   "source": [
    "# Hàm này đọc và trả về biến lst_range_shotes mảng numpy (229, 2) kiểu uint 32\n",
    "\n",
    "shot_frames_path  = 'data/scenes_txt/'\n",
    "video_info = 'C00_V0000'\n",
    "\n",
    "with open(f'{shot_frames_path}/{video_info}.txt', 'r') as f:\n",
    "    lst_range_shotes = f.readlines()\n",
    "lst_range_shotes = np.array([re.sub('\\[|\\]', '', line).strip().split(' ') for line in lst_range_shotes]).astype(np.uint32)\n"
   ]
  },
  {
   "cell_type": "code",
   "execution_count": null,
   "metadata": {},
   "outputs": [],
   "source": [
    "################################ Check khung video có trong file txt k ################################\n",
    "      \n",
    "      for video_path in video_paths:\n",
    "        image_paths = sorted(glob.glob(f'{video_path}/*.jpg'))\n",
    "\n",
    "        ###### Get all id keyframes from video_path ######\n",
    "        id_keyframes = np.array([int(id.split('/')[-1].replace('.jpg', '')) for id in image_paths])\n",
    "\n",
    "        ###### Get scenes from video_path ######\n",
    "        video_info = video_path.split('/')[-1]\n",
    "        \n",
    "        with open(f'{shot_frames_path}/{video_info}.txt', 'r') as f:\n",
    "          lst_range_shotes = f.readlines()\n",
    "        lst_range_shotes = np.array([re.sub('\\[|\\]', '', line).strip().split(' ') for line in lst_range_shotes]).astype(np.uint32)\n",
    "\n",
    "        for im_path in image_paths:\n",
    "          # im_path = 'Database/' + '/'.join(im_path.split('/')[-3:])\n",
    "          id = int(im_path.split('/')[-1].replace('.jpg', ''))\n",
    "          \n",
    "          i = 0\n",
    "          flag=0\n",
    "          for range_shot in lst_range_shotes:\n",
    "            i+=1\n",
    "            first, end = range_shot\n",
    "\n",
    "            if first <= id <= end:\n",
    "              break\n",
    "            \n",
    "            if i == len(lst_range_shotes):\n",
    "              flag=1\n",
    "          \n",
    "          if flag == 1:\n",
    "            print(f\"Skip: {im_path}\")\n",
    "            print(first, end)\n",
    "            continue"
   ]
  },
  {
   "cell_type": "code",
   "execution_count": null,
   "metadata": {},
   "outputs": [],
   "source": [
    "'''\n",
    "lst_shot = [ 954 1020]\n",
    "lst_shot = [ 954, 956, ..., 1020]\n",
    "'''\n",
    "        ##### Get List Shot ID #####\n",
    "          lst_shot = id_keyframes[np.where((id_keyframes>=first) & (id_keyframes<=end))]"
   ]
  },
  {
   "cell_type": "code",
   "execution_count": null,
   "metadata": {},
   "outputs": [],
   "source": [
    "class File4Faiss:\n",
    "  def __init__(self, root_database: str):\n",
    "    self.root_database = root_database\n",
    "\n",
    "  def re_shot_list(self, shot_list, id, k):\n",
    "    len_lst = len(shot_list)\n",
    "    if k>=len_lst or k == 0:\n",
    "      return shot_list\n",
    "\n",
    "    shot_list.sort()\n",
    "    index_a = shot_list.index(id)\n",
    "\n",
    "    index_get_right = k // 2\n",
    "    index_get_left = k - index_get_right\n",
    "\n",
    "    if index_a - index_get_left < 0:\n",
    "      index_get_left = index_a\n",
    "      index_get_right = k - index_a\n",
    "    elif index_a + index_get_right >= len_lst:\n",
    "      index_get_right = len_lst - index_a - 1\n",
    "      index_get_left = k - index_get_right\n",
    "\n",
    "    output = shot_list[index_a - index_get_left: index_a] + shot_list[index_a: index_a + index_get_right + 1]\n",
    "    return output\n",
    "\n",
    "  def write_json_file(self, json_path: str, shot_frames_path: str, option='full'):\n",
    "    count = 0\n",
    "    self.infos = []\n",
    "    des_path = os.path.join(json_path, \"keyframes_id.json\")\n",
    "    keyframe_paths = sorted(glob.glob(f'{self.root_database}/KeyFramesC0*'))\n",
    "\n",
    "    for kf in keyframe_paths:\n",
    "      video_paths = sorted(glob.glob(f\"{kf}/*\"))\n",
    "\n",
    "      for video_path in video_paths:\n",
    "        image_paths = sorted(glob.glob(f'{video_path}/*.jpg'))\n",
    "\n",
    "        ###### Get all id keyframes from video_path ######\n",
    "        id_keyframes = np.array([int(id.split('/')[-1].replace('.jpg', '')) for id in image_paths])\n",
    "\n",
    "        ###### Get scenes from video_path ######\n",
    "        video_info = video_path.split('/')[-1]\n",
    "        \n",
    "        with open(f'{shot_frames_path}/{video_info}.txt', 'r') as f:\n",
    "          lst_range_shotes = f.readlines()\n",
    "        lst_range_shotes = np.array([re.sub('\\[|\\]', '', line).strip().split(' ') for line in lst_range_shotes]).astype(np.uint32)\n",
    "\n",
    "        for im_path in image_paths:\n",
    "          # im_path = 'Database/' + '/'.join(im_path.split('/')[-3:])\n",
    "          id = int(im_path.split('/')[-1].replace('.jpg', ''))\n",
    "          \n",
    "          i = 0\n",
    "          flag=0\n",
    "          for range_shot in lst_range_shotes:\n",
    "            i+=1\n",
    "            first, end = range_shot\n",
    "\n",
    "            if first <= id <= end:\n",
    "              break\n",
    "            \n",
    "            if i == len(lst_range_shotes):\n",
    "              flag=1\n",
    "          \n",
    "          if flag == 1:\n",
    "            print(f\"Skip: {im_path}\")\n",
    "            print(first, end)\n",
    "            continue\n",
    "\n",
    "          ##### Get List Shot ID #####\n",
    "          lst_shot = id_keyframes[np.where((id_keyframes>=first) & (id_keyframes<=end))]\n",
    "          lst_shot = self.re_shot_list(list(lst_shot), id, k=6)\n",
    "          lst_shot = [f\"{i:0>6d}\" for i in lst_shot]\n",
    "\n",
    "          ##### Get List Shot Path #####\n",
    "          lst_shot_path = []\n",
    "          for id_shot in lst_shot:\n",
    "            info_shot = {\n",
    "                \"shot_id\": id_shot,\n",
    "                \"shot_path\": '/'.join(im_path.split('/')[:-1]) + f\"/{id_shot}.jpg\"\n",
    "            }\n",
    "            lst_shot_path.append(info_shot) \n",
    "\n",
    "          ##### Merge All Info #####\n",
    "          info = {\n",
    "                  \"image_path\": im_path,\n",
    "                  \"list_shot_id\": lst_shot,\n",
    "                  \"list_shot_path\": lst_shot_path\n",
    "                 }\n",
    "                  \n",
    "          if option == 'full':        \n",
    "            self.infos.append(info)   \n",
    "          else:\n",
    "            if id == (end+first)//2:\n",
    "              self.infos.append(info)  \n",
    "\n",
    "          count += 1\n",
    "\n",
    "    id2img_fps = dict(enumerate(self.infos))"
   ]
  },
  {
   "cell_type": "code",
   "execution_count": 25,
   "metadata": {},
   "outputs": [
    {
     "name": "stdout",
     "output_type": "stream",
     "text": [
      "[1, 2, 3, 5, 6, 7, 9]\n"
     ]
    },
    {
     "data": {
      "text/plain": [
       "[2, 3, 5, 6]"
      ]
     },
     "execution_count": 25,
     "metadata": {},
     "output_type": "execute_result"
    }
   ],
   "source": [
    "import numpy as np\n",
    "\n",
    "###### Hàm này để xem có vượt quá phạm vi khhong neu co thì chỉnh lại cho ngay tam ######\n",
    "def re_shot_list( shot_list, id, k):\n",
    "    len_lst = len(shot_list) # 7\n",
    "    if k>=len_lst or k == 0:\n",
    "        return shot_list\n",
    "\n",
    "    shot_list.sort()\n",
    "    print(shot_list)\n",
    "    index_a = shot_list.index(id) # 3\n",
    "\n",
    "    index_get_right = k // 2 # 1\n",
    "    index_get_left = k - index_get_right # 2\n",
    "    if index_a - index_get_left < 0: # Nếu mà bên trái k đủ dài thì thu lại từ từ bù qua vị trí a qua phải\n",
    "        index_get_left = index_a\n",
    "        index_get_right = k - index_a\n",
    "    elif index_a + index_get_right >= len_lst: # ngược lại \n",
    "        index_get_right = len_lst - index_a - 1\n",
    "        index_get_left = k - index_get_right\n",
    "\n",
    "    output = shot_list[index_a - index_get_left: index_a] + shot_list[index_a: index_a + index_get_right + 1]\n",
    "    return output\n",
    "\n",
    "\n",
    "shot_list = [2, 5, 3, 1, 6, 9 ,7]\n",
    "arr = re_shot_list(shot_list, 5, 3)\n",
    "arr"
   ]
  },
  {
   "cell_type": "code",
   "execution_count": 28,
   "metadata": {},
   "outputs": [
    {
     "data": {
      "text/plain": [
       "['000002', '000003', '000005', '000006']"
      ]
     },
     "execution_count": 28,
     "metadata": {},
     "output_type": "execute_result"
    }
   ],
   "source": [
    "arrr = [f\"{i:0>6d}\" for i in arr]\n",
    "arrr"
   ]
  },
  {
   "cell_type": "code",
   "execution_count": 29,
   "metadata": {},
   "outputs": [
    {
     "data": {
      "text/plain": [
       "[2, 3, 5]"
      ]
     },
     "execution_count": 29,
     "metadata": {},
     "output_type": "execute_result"
    }
   ],
   "source": [
    "arr[:-1]"
   ]
  },
  {
   "cell_type": "code",
   "execution_count": null,
   "metadata": {},
   "outputs": [],
   "source": [
    "id2img_fps = dict(enumerate(self.infos))\n",
    "# self.infos = ['image1.jpg', 'image2.jpg', 'image3.jpg']\n",
    "# {0: 'image1.jpg', 1: 'image2.jpg', 2: 'image3.jpg'}"
   ]
  },
  {
   "cell_type": "code",
   "execution_count": 3,
   "metadata": {},
   "outputs": [
    {
     "data": {
      "text/plain": [
       "'C00'"
      ]
     },
     "execution_count": 3,
     "metadata": {},
     "output_type": "execute_result"
    }
   ],
   "source": [
    "image_path = \"Database/KeyFramesC00_V00/C00_V0000/000096.jpg\"\n",
    "video_id = re.sub('_V\\d+', '', image_path.split('/')[-2])\n",
    "video_id"
   ]
  },
  {
   "cell_type": "code",
   "execution_count": 4,
   "metadata": {},
   "outputs": [
    {
     "data": {
      "text/plain": [
       "'Database/KeyFramesC00_V00/C00_V0000/000096.jpg'"
      ]
     },
     "execution_count": 4,
     "metadata": {},
     "output_type": "execute_result"
    }
   ],
   "source": [
    "image_path"
   ]
  },
  {
   "cell_type": "code",
   "execution_count": 6,
   "metadata": {},
   "outputs": [
    {
     "ename": "ValueError",
     "evalue": "invalid literal for int() with base 10: '/'",
     "output_type": "error",
     "traceback": [
      "\u001b[0;31m---------------------------------------------------------------------------\u001b[0m",
      "\u001b[0;31mValueError\u001b[0m                                Traceback (most recent call last)",
      "\u001b[0;32m/tmp/ipykernel_9067/361226493.py\u001b[0m in \u001b[0;36m<module>\u001b[0;34m\u001b[0m\n\u001b[1;32m      2\u001b[0m \u001b[0;31m# ids = os.listdir(re.sub('/\\d+.jpg','',image_path))\u001b[0m\u001b[0;34m\u001b[0m\u001b[0;34m\u001b[0m\u001b[0;34m\u001b[0m\u001b[0m\n\u001b[1;32m      3\u001b[0m \u001b[0mids\u001b[0m \u001b[0;34m=\u001b[0m \u001b[0;34m\"/path/to/images/\"\u001b[0m\u001b[0;34m\u001b[0m\u001b[0;34m\u001b[0m\u001b[0m\n\u001b[0;32m----> 4\u001b[0;31m \u001b[0mids\u001b[0m \u001b[0;34m=\u001b[0m \u001b[0msorted\u001b[0m\u001b[0;34m(\u001b[0m\u001b[0mids\u001b[0m\u001b[0;34m,\u001b[0m \u001b[0mkey\u001b[0m\u001b[0;34m=\u001b[0m\u001b[0;32mlambda\u001b[0m \u001b[0mx\u001b[0m\u001b[0;34m:\u001b[0m\u001b[0mint\u001b[0m\u001b[0;34m(\u001b[0m\u001b[0mx\u001b[0m\u001b[0;34m.\u001b[0m\u001b[0msplit\u001b[0m\u001b[0;34m(\u001b[0m\u001b[0;34m'.'\u001b[0m\u001b[0;34m)\u001b[0m\u001b[0;34m[\u001b[0m\u001b[0;36m0\u001b[0m\u001b[0;34m]\u001b[0m\u001b[0;34m)\u001b[0m\u001b[0;34m)\u001b[0m\u001b[0;34m\u001b[0m\u001b[0;34m\u001b[0m\u001b[0m\n\u001b[0m\u001b[1;32m      5\u001b[0m \u001b[0;34m\u001b[0m\u001b[0m\n\u001b[1;32m      6\u001b[0m \u001b[0mid\u001b[0m \u001b[0;34m=\u001b[0m \u001b[0mids\u001b[0m\u001b[0;34m.\u001b[0m\u001b[0mindex\u001b[0m\u001b[0;34m(\u001b[0m\u001b[0mimage_path\u001b[0m\u001b[0;34m.\u001b[0m\u001b[0msplit\u001b[0m\u001b[0;34m(\u001b[0m\u001b[0;34m'/'\u001b[0m\u001b[0;34m)\u001b[0m\u001b[0;34m[\u001b[0m\u001b[0;34m-\u001b[0m\u001b[0;36m1\u001b[0m\u001b[0;34m]\u001b[0m\u001b[0;34m)\u001b[0m\u001b[0;34m\u001b[0m\u001b[0;34m\u001b[0m\u001b[0m\n",
      "\u001b[0;32m/tmp/ipykernel_9067/361226493.py\u001b[0m in \u001b[0;36m<lambda>\u001b[0;34m(x)\u001b[0m\n\u001b[1;32m      2\u001b[0m \u001b[0;31m# ids = os.listdir(re.sub('/\\d+.jpg','',image_path))\u001b[0m\u001b[0;34m\u001b[0m\u001b[0;34m\u001b[0m\u001b[0;34m\u001b[0m\u001b[0m\n\u001b[1;32m      3\u001b[0m \u001b[0mids\u001b[0m \u001b[0;34m=\u001b[0m \u001b[0;34m\"/path/to/images/\"\u001b[0m\u001b[0;34m\u001b[0m\u001b[0;34m\u001b[0m\u001b[0m\n\u001b[0;32m----> 4\u001b[0;31m \u001b[0mids\u001b[0m \u001b[0;34m=\u001b[0m \u001b[0msorted\u001b[0m\u001b[0;34m(\u001b[0m\u001b[0mids\u001b[0m\u001b[0;34m,\u001b[0m \u001b[0mkey\u001b[0m\u001b[0;34m=\u001b[0m\u001b[0;32mlambda\u001b[0m \u001b[0mx\u001b[0m\u001b[0;34m:\u001b[0m\u001b[0mint\u001b[0m\u001b[0;34m(\u001b[0m\u001b[0mx\u001b[0m\u001b[0;34m.\u001b[0m\u001b[0msplit\u001b[0m\u001b[0;34m(\u001b[0m\u001b[0;34m'.'\u001b[0m\u001b[0;34m)\u001b[0m\u001b[0;34m[\u001b[0m\u001b[0;36m0\u001b[0m\u001b[0;34m]\u001b[0m\u001b[0;34m)\u001b[0m\u001b[0;34m)\u001b[0m\u001b[0;34m\u001b[0m\u001b[0;34m\u001b[0m\u001b[0m\n\u001b[0m\u001b[1;32m      5\u001b[0m \u001b[0;34m\u001b[0m\u001b[0m\n\u001b[1;32m      6\u001b[0m \u001b[0mid\u001b[0m \u001b[0;34m=\u001b[0m \u001b[0mids\u001b[0m\u001b[0;34m.\u001b[0m\u001b[0mindex\u001b[0m\u001b[0;34m(\u001b[0m\u001b[0mimage_path\u001b[0m\u001b[0;34m.\u001b[0m\u001b[0msplit\u001b[0m\u001b[0;34m(\u001b[0m\u001b[0;34m'/'\u001b[0m\u001b[0;34m)\u001b[0m\u001b[0;34m[\u001b[0m\u001b[0;34m-\u001b[0m\u001b[0;36m1\u001b[0m\u001b[0;34m]\u001b[0m\u001b[0;34m)\u001b[0m\u001b[0;34m\u001b[0m\u001b[0;34m\u001b[0m\u001b[0m\n",
      "\u001b[0;31mValueError\u001b[0m: invalid literal for int() with base 10: '/'"
     ]
    }
   ],
   "source": [
    "# video_id = re.sub('_V\\d+', '', image_path.split('/')[-2])\n",
    "# ids = os.listdir(re.sub('/\\d+.jpg','',image_path))\n",
    "ids = \"/path/to/images/\"\n",
    "ids = sorted(ids, key=lambda x:int(x.split('.')[0]))\n",
    "\n",
    "id = ids.index(image_path.split('/')[-1])\n",
    "\n",
    "id\n",
    "      \n",
    "# Nếu image_path = \"/path/to/images/1.jpg\", thì \n",
    "# re.sub('/\\d+.jpg','',image_path) sẽ trả về \"/path/to/images/\"."
   ]
  },
  {
   "cell_type": "code",
   "execution_count": null,
   "metadata": {},
   "outputs": [],
   "source": []
  },
  {
   "cell_type": "code",
   "execution_count": 50,
   "metadata": {},
   "outputs": [],
   "source": [
    "class File4Faiss:\n",
    "  def __init__(self, root_database: str):\n",
    "    self.root_database = root_database\n",
    "\n",
    "  def re_shot_list(self, shot_list, id, k):\n",
    "    len_lst = len(shot_list)\n",
    "    if k>=len_lst or k == 0:\n",
    "      return shot_list\n",
    "\n",
    "    shot_list.sort()\n",
    "    index_a = shot_list.index(id)\n",
    "\n",
    "    index_get_right = k // 2\n",
    "    index_get_left = k - index_get_right\n",
    "\n",
    "    if index_a - index_get_left < 0:\n",
    "      index_get_left = index_a\n",
    "      index_get_right = k - index_a\n",
    "    elif index_a + index_get_right >= len_lst:\n",
    "      index_get_right = len_lst - index_a - 1\n",
    "      index_get_left = k - index_get_right\n",
    "\n",
    "    output = shot_list[index_a - index_get_left: index_a] + shot_list[index_a: index_a + index_get_right + 1]\n",
    "    return output\n",
    "\n",
    "  def write_json_file(self, json_path: str, shot_frames_path: str, option='full'):\n",
    "    count = 0\n",
    "    self.infos = []\n",
    "    des_path = os.path.join(json_path, \"keyframes_id.json\")\n",
    "    keyframe_paths = sorted(glob.glob(f'{self.root_database}/KeyFramesC0*'))\n",
    "\n",
    "    for kf in keyframe_paths:\n",
    "      video_paths = sorted(glob.glob(f\"{kf}/*\"))\n",
    "\n",
    "      for video_path in video_paths:\n",
    "        image_paths = sorted(glob.glob(f'{video_path}/*.jpg'))\n",
    "\n",
    "        ###### Get all id keyframes from video_path ######\n",
    "        id_keyframes = np.array([int(id.split('/')[-1].replace('.jpg', '')) for id in image_paths])\n",
    "\n",
    "        ###### Get scenes from video_path ######\n",
    "        video_info = video_path.split('/')[-1]\n",
    "        \n",
    "        with open(f'{shot_frames_path}/{video_info}.txt', 'r') as f:\n",
    "          lst_range_shotes = f.readlines()\n",
    "        lst_range_shotes = np.array([re.sub('\\[|\\]', '', line).strip().split(' ') for line in lst_range_shotes]).astype(np.uint32)\n",
    "\n",
    "        for im_path in image_paths:\n",
    "          # im_path = 'Database/' + '/'.join(im_path.split('/')[-3:])\n",
    "          id = int(im_path.split('/')[-1].replace('.jpg', ''))\n",
    "          \n",
    "          i = 0\n",
    "          flag=0\n",
    "          for range_shot in lst_range_shotes:\n",
    "            i+=1\n",
    "            first, end = range_shot\n",
    "\n",
    "            if first <= id <= end:\n",
    "              break\n",
    "            \n",
    "            if i == len(lst_range_shotes):\n",
    "              flag=1\n",
    "          \n",
    "          if flag == 1:\n",
    "            print(f\"Skip: {im_path}\")\n",
    "            print(first, end)\n",
    "            continue\n",
    "\n",
    "          ##### Get List Shot ID #####\n",
    "          lst_shot = id_keyframes[np.where((id_keyframes>=first) & (id_keyframes<=end))]\n",
    "          lst_shot = self.re_shot_list(list(lst_shot), id, k=6)\n",
    "          lst_shot = [f\"{i:0>6d}\" for i in lst_shot]\n",
    "\n",
    "          ##### Get List Shot Path #####\n",
    "          lst_shot_path = []\n",
    "          for id_shot in lst_shot:\n",
    "            info_shot = {\n",
    "                \"shot_id\": id_shot,\n",
    "                \"shot_path\": '/'.join(im_path.split('/')[:-1]) + f\"/{id_shot}.jpg\"\n",
    "            }\n",
    "            lst_shot_path.append(info_shot) \n",
    "\n",
    "          ##### Merge All Info #####\n",
    "          info = {\n",
    "                  \"image_path\": im_path,\n",
    "                  \"list_shot_id\": lst_shot,\n",
    "                  \"list_shot_path\": lst_shot_path\n",
    "                 }\n",
    "                  \n",
    "          if option == 'full':        \n",
    "            self.infos.append(info)   \n",
    "          else:\n",
    "            if id == (end+first)//2:\n",
    "              self.infos.append(info)  \n",
    "\n",
    "          count += 1\n",
    "\n",
    "    id2img_fps = dict(enumerate(self.infos))\n",
    "    \n",
    "    with open(des_path, 'w') as f:\n",
    "      f.write(json.dumps(id2img_fps))\n",
    "\n",
    "    print(f'Saved {des_path}')\n",
    "    print(f\"Number of Index: {count}\")\n",
    "\n",
    "  def load_json_file(self, json_path: str):\n",
    "    with open(json_path, 'r') as f:\n",
    "      js = json.loads(f.read())\n",
    "\n",
    "    return {int(k):v for k,v in js.items()}\n",
    "\n",
    "  def write_bin_file(self, bin_path: str, json_path: str, method='L2', feature_shape=512):\n",
    "    count = 0\n",
    "    id2img_fps = self.load_json_file(json_path)\n",
    "\n",
    "    if method in 'L2':\n",
    "      index = faiss.IndexFlatL2(feature_shape)\n",
    "    elif method in 'cosine':\n",
    "      index = faiss.IndexFlatIP(feature_shape)\n",
    "    else:\n",
    "      assert f\"{method} not supported\"\n",
    "    \n",
    "    for _, value in id2img_fps.items():\n",
    "      image_path = value[\"image_path\"]\n",
    "      video_name = image_path.split('/')[-2] + '.npy'\n",
    "\n",
    "      video_id = re.sub('_V\\d+', '', image_path.split('/')[-2])\n",
    "      batch_name = image_path.split('/')[-3].split('_')[-1]\n",
    "      clip_name = f\"PLIP_Features\"\n",
    "\n",
    "      feat_path = os.path.join(self.root_database, clip_name, video_name) \n",
    "\n",
    "      feats = np.load(feat_path)\n",
    "\n",
    "      ids = os.listdir(re.sub('/\\d+.jpg','',image_path))\n",
    "      ids = sorted(ids, key=lambda x:int(x.split('.')[0]))\n",
    "\n",
    "      id = ids.index(image_path.split('/')[-1])\n",
    "      \n",
    "      feat = feats[id]\n",
    "      print(feat.shape)\n",
    "      feat = feat.astype(np.float32).reshape(1,-1)\n",
    "      print(\"##########################################\")\n",
    "      print(\" Feat after reshape: \", feat.shape)\n",
    "      index.add(feat)\n",
    "      \n",
    "      count += 1\n",
    "    \n",
    "    faiss.write_index(index, os.path.join(bin_path, f\"faiss_{method}.bin\"))\n",
    "\n",
    "    print(f'Saved {os.path.join(bin_path, f\"faiss_{method}.bin\")}')\n",
    "    print(f\"Number of Index: {count}\")"
   ]
  },
  {
   "cell_type": "code",
   "execution_count": 51,
   "metadata": {},
   "outputs": [
    {
     "name": "stdout",
     "output_type": "stream",
     "text": [
      "Saved data/faiss_merge_files/keyframes_id.json\n",
      "Number of Index: 2299\n"
     ]
    }
   ],
   "source": [
    "create_file = File4Faiss('data')\n",
    "create_file.write_json_file(json_path='data/faiss_merge_files', shot_frames_path='data/scenes_txt')"
   ]
  },
  {
   "cell_type": "code",
   "execution_count": 52,
   "metadata": {},
   "outputs": [
    {
     "name": "stdout",
     "output_type": "stream",
     "text": [
      "(768,)\n",
      "##########################################\n",
      " Feat after reshape:  (1, 768)\n"
     ]
    },
    {
     "ename": "AssertionError",
     "evalue": "",
     "output_type": "error",
     "traceback": [
      "\u001b[0;31m---------------------------------------------------------------------------\u001b[0m",
      "\u001b[0;31mAssertionError\u001b[0m                            Traceback (most recent call last)",
      "\u001b[0;32m/tmp/ipykernel_19523/3674610961.py\u001b[0m in \u001b[0;36m<module>\u001b[0;34m\u001b[0m\n\u001b[0;32m----> 1\u001b[0;31m \u001b[0mcreate_file\u001b[0m\u001b[0;34m.\u001b[0m\u001b[0mwrite_bin_file\u001b[0m\u001b[0;34m(\u001b[0m\u001b[0mbin_path\u001b[0m\u001b[0;34m=\u001b[0m\u001b[0;34m'data/faiss_merge_files'\u001b[0m\u001b[0;34m,\u001b[0m \u001b[0mjson_path\u001b[0m\u001b[0;34m=\u001b[0m\u001b[0;34m'data/faiss_merge_files/keyframes_id.json'\u001b[0m\u001b[0;34m,\u001b[0m \u001b[0mmethod\u001b[0m\u001b[0;34m=\u001b[0m\u001b[0;34m'cosine'\u001b[0m\u001b[0;34m)\u001b[0m\u001b[0;34m\u001b[0m\u001b[0;34m\u001b[0m\u001b[0m\n\u001b[0m",
      "\u001b[0;32m/tmp/ipykernel_19523/4140437887.py\u001b[0m in \u001b[0;36mwrite_bin_file\u001b[0;34m(self, bin_path, json_path, method, feature_shape)\u001b[0m\n\u001b[1;32m    143\u001b[0m       \u001b[0mprint\u001b[0m\u001b[0;34m(\u001b[0m\u001b[0;34m\"##########################################\"\u001b[0m\u001b[0;34m)\u001b[0m\u001b[0;34m\u001b[0m\u001b[0;34m\u001b[0m\u001b[0m\n\u001b[1;32m    144\u001b[0m       \u001b[0mprint\u001b[0m\u001b[0;34m(\u001b[0m\u001b[0;34m\" Feat after reshape: \"\u001b[0m\u001b[0;34m,\u001b[0m \u001b[0mfeat\u001b[0m\u001b[0;34m.\u001b[0m\u001b[0mshape\u001b[0m\u001b[0;34m)\u001b[0m\u001b[0;34m\u001b[0m\u001b[0;34m\u001b[0m\u001b[0m\n\u001b[0;32m--> 145\u001b[0;31m       \u001b[0mindex\u001b[0m\u001b[0;34m.\u001b[0m\u001b[0madd\u001b[0m\u001b[0;34m(\u001b[0m\u001b[0mfeat\u001b[0m\u001b[0;34m)\u001b[0m\u001b[0;34m\u001b[0m\u001b[0;34m\u001b[0m\u001b[0m\n\u001b[0m\u001b[1;32m    146\u001b[0m \u001b[0;34m\u001b[0m\u001b[0m\n\u001b[1;32m    147\u001b[0m       \u001b[0mcount\u001b[0m \u001b[0;34m+=\u001b[0m \u001b[0;36m1\u001b[0m\u001b[0;34m\u001b[0m\u001b[0;34m\u001b[0m\u001b[0m\n",
      "\u001b[0;32m~/anaconda3/envs/UTE-AI/lib/python3.7/site-packages/faiss/__init__.py\u001b[0m in \u001b[0;36mreplacement_add\u001b[0;34m(self, x)\u001b[0m\n\u001b[1;32m    212\u001b[0m \u001b[0;34m\u001b[0m\u001b[0m\n\u001b[1;32m    213\u001b[0m         \u001b[0mn\u001b[0m\u001b[0;34m,\u001b[0m \u001b[0md\u001b[0m \u001b[0;34m=\u001b[0m \u001b[0mx\u001b[0m\u001b[0;34m.\u001b[0m\u001b[0mshape\u001b[0m\u001b[0;34m\u001b[0m\u001b[0;34m\u001b[0m\u001b[0m\n\u001b[0;32m--> 214\u001b[0;31m         \u001b[0;32massert\u001b[0m \u001b[0md\u001b[0m \u001b[0;34m==\u001b[0m \u001b[0mself\u001b[0m\u001b[0;34m.\u001b[0m\u001b[0md\u001b[0m\u001b[0;34m\u001b[0m\u001b[0;34m\u001b[0m\u001b[0m\n\u001b[0m\u001b[1;32m    215\u001b[0m         \u001b[0mself\u001b[0m\u001b[0;34m.\u001b[0m\u001b[0madd_c\u001b[0m\u001b[0;34m(\u001b[0m\u001b[0mn\u001b[0m\u001b[0;34m,\u001b[0m \u001b[0mswig_ptr\u001b[0m\u001b[0;34m(\u001b[0m\u001b[0mx\u001b[0m\u001b[0;34m)\u001b[0m\u001b[0;34m)\u001b[0m\u001b[0;34m\u001b[0m\u001b[0;34m\u001b[0m\u001b[0m\n\u001b[1;32m    216\u001b[0m \u001b[0;34m\u001b[0m\u001b[0m\n",
      "\u001b[0;31mAssertionError\u001b[0m: "
     ]
    }
   ],
   "source": [
    "create_file.write_bin_file(bin_path='data/faiss_merge_files', json_path='data/faiss_merge_files/keyframes_id.json', method='cosine')"
   ]
  },
  {
   "cell_type": "code",
   "execution_count": null,
   "metadata": {},
   "outputs": [],
   "source": [
    "# PLIP (768,)"
   ]
  }
 ],
 "metadata": {
  "kernelspec": {
   "display_name": "UTE-AI",
   "language": "python",
   "name": "python3"
  },
  "language_info": {
   "codemirror_mode": {
    "name": "ipython",
    "version": 3
   },
   "file_extension": ".py",
   "mimetype": "text/x-python",
   "name": "python",
   "nbconvert_exporter": "python",
   "pygments_lexer": "ipython3",
   "version": "3.7.15"
  },
  "orig_nbformat": 4
 },
 "nbformat": 4,
 "nbformat_minor": 2
}
