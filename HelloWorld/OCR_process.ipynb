{
 "cells": [
  {
   "cell_type": "code",
   "execution_count": 4,
   "metadata": {},
   "outputs": [],
   "source": [
    "from rapidfuzz import fuzz\n",
    "import pandas as pd \n",
    "import json\n",
    "import re \n",
    "import numpy as np"
   ]
  },
  {
   "cell_type": "code",
   "execution_count": 15,
   "metadata": {},
   "outputs": [
    {
     "name": "stdout",
     "output_type": "stream",
     "text": [
      "['C00_V0000/000588.jpg', 'C00_V0000/000600.jpg', 'C00_V0000/000611.jpg', 'C00_V0000/000623.jpg', 'C00_V0000/000624.jpg', 'C00_V0000/000629.jpg', 'C00_V0000/000635.jpg', 'C00_V0000/000640.jpg', 'C00_V0000/000646.jpg', 'C00_V0000/000647.jpg', 'C00_V0000/000661.jpg', 'C00_V0000/000675.jpg', 'C00_V0000/000689.jpg', 'C00_V0000/000703.jpg', 'C00_V0000/001805.jpg', 'C00_V0000/001813.jpg', 'C00_V0000/001822.jpg', 'C00_V0000/001831.jpg', 'C00_V0000/001841.jpg', 'C00_V0000/001857.jpg', 'C00_V0000/001874.jpg', 'C00_V0000/001891.jpg', 'C00_V0000/001908.jpg', 'C00_V0000/001909.jpg']\n"
     ]
    }
   ],
   "source": [
    "def fill_ocr_results(st, list_ocr_results):\n",
    "  def check(x):\n",
    "    score = fuzz.token_set_ratio(x.lower(), st.lower())\n",
    "    if score >= 80:\n",
    "      if re.search(f'\\s{st.lower()}\\s',x.lower()):\n",
    "        return True\n",
    "      return False\n",
    "    return False\n",
    "  \n",
    "  ocr_1 = list(filter(check, list_ocr_results))\n",
    "  # print(ocr_1)\n",
    "  list_ocr=list(map(lambda x:f'{x.split(\",\")[0]}/{x.split(\",\")[1]:0>6}.jpg', ocr_1))\n",
    "  return list_ocr\n",
    "\n",
    "\n",
    "if __name__ == \"__main__\":\n",
    "    with open(\"data/OCR_ASR/info_ocr_loc.txt\", \"r\", encoding=\"utf8\") as fi:\n",
    "        list_ocr_results = list(map(lambda x: x.replace(\"\\n\",\"\"), fi.readlines()))\n",
    "        \n",
    "    list_ocr = fill_ocr_results(\"bệnh viêm não\", list_ocr_results)\n",
    "    print(list_ocr)"
   ]
  },
  {
   "cell_type": "code",
   "execution_count": 39,
   "metadata": {},
   "outputs": [
    {
     "name": "stdout",
     "output_type": "stream",
     "text": [
      "[]\n"
     ]
    }
   ],
   "source": []
  },
  {
   "cell_type": "code",
   "execution_count": null,
   "metadata": {},
   "outputs": [],
   "source": []
  }
 ],
 "metadata": {
  "kernelspec": {
   "display_name": "UTE-AI",
   "language": "python",
   "name": "python3"
  },
  "language_info": {
   "codemirror_mode": {
    "name": "ipython",
    "version": 3
   },
   "file_extension": ".py",
   "mimetype": "text/x-python",
   "name": "python",
   "nbconvert_exporter": "python",
   "pygments_lexer": "ipython3",
   "version": "3.7.15"
  },
  "orig_nbformat": 4
 },
 "nbformat": 4,
 "nbformat_minor": 2
}
